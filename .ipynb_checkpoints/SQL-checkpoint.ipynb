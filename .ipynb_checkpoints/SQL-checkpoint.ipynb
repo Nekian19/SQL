{
 "cells": [
  {
   "cell_type": "code",
   "execution_count": 1,
   "id": "44cb063d",
   "metadata": {},
   "outputs": [],
   "source": [
    "import pandahouse as ph\n",
    "connection = {'host': 'http://clickhouse.beslan.pro:8080',\n",
    "                      'database':'',\n",
    "                      'user':'', \n",
    "                      'password':''\n",
    "                     }"
   ]
  },
  {
   "cell_type": "code",
   "execution_count": 2,
   "id": "5950551f",
   "metadata": {},
   "outputs": [
    {
     "data": {
      "text/html": [
       "<div>\n",
       "<style scoped>\n",
       "    .dataframe tbody tr th:only-of-type {\n",
       "        vertical-align: middle;\n",
       "    }\n",
       "\n",
       "    .dataframe tbody tr th {\n",
       "        vertical-align: top;\n",
       "    }\n",
       "\n",
       "    .dataframe thead th {\n",
       "        text-align: right;\n",
       "    }\n",
       "</style>\n",
       "<table border=\"1\" class=\"dataframe\">\n",
       "  <thead>\n",
       "    <tr style=\"text-align: right;\">\n",
       "      <th></th>\n",
       "      <th>count(st_id)</th>\n",
       "    </tr>\n",
       "  </thead>\n",
       "  <tbody>\n",
       "    <tr>\n",
       "      <th>0</th>\n",
       "      <td>136</td>\n",
       "    </tr>\n",
       "  </tbody>\n",
       "</table>\n",
       "</div>"
      ],
      "text/plain": [
       "   count(st_id)\n",
       "0           136"
      ]
     },
     "execution_count": 2,
     "metadata": {},
     "output_type": "execute_result"
    }
   ],
   "source": [
    "q = '''\n",
    "    SELECT\n",
    "    COUNT(st_id)\n",
    "    FROM(\n",
    "        SELECT\n",
    "            st_id,\n",
    "            SUM(correct) correct_sum\n",
    "        FROM default.peas\n",
    "        GROUP BY st_id\n",
    "        )sub1\n",
    "    WHERE correct_sum >= 20\n",
    "    '''\n",
    "result = ph.read_clickhouse(query=q, connection=connection)\n",
    "result"
   ]
  },
  {
   "cell_type": "code",
   "execution_count": null,
   "id": "b0221571",
   "metadata": {},
   "outputs": [],
   "source": []
  },
  {
   "cell_type": "code",
   "execution_count": null,
   "id": "af4af021",
   "metadata": {},
   "outputs": [],
   "source": []
  }
 ],
 "metadata": {
  "kernelspec": {
   "display_name": "Python 3 (ipykernel)",
   "language": "python",
   "name": "python3"
  },
  "language_info": {
   "codemirror_mode": {
    "name": "ipython",
    "version": 3
   },
   "file_extension": ".py",
   "mimetype": "text/x-python",
   "name": "python",
   "nbconvert_exporter": "python",
   "pygments_lexer": "ipython3",
   "version": "3.10.9"
  }
 },
 "nbformat": 4,
 "nbformat_minor": 5
}
