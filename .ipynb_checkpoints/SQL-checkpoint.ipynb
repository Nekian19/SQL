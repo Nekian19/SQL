{
 "cells": [
  {
   "cell_type": "code",
   "execution_count": 1,
   "id": "44cb063d",
   "metadata": {},
   "outputs": [],
   "source": [
    "import pandahouse as ph\n",
    "connection = {'host': 'http://clickhouse.beslan.pro:8080',\n",
    "                      'database':'',\n",
    "                      'user':'', \n",
    "                      'password':''\n",
    "                     }"
   ]
  },
  {
   "cell_type": "code",
   "execution_count": 2,
   "id": "5950551f",
   "metadata": {},
   "outputs": [
    {
     "data": {
      "text/html": [
       "<div>\n",
       "<style scoped>\n",
       "    .dataframe tbody tr th:only-of-type {\n",
       "        vertical-align: middle;\n",
       "    }\n",
       "\n",
       "    .dataframe tbody tr th {\n",
       "        vertical-align: top;\n",
       "    }\n",
       "\n",
       "    .dataframe thead th {\n",
       "        text-align: right;\n",
       "    }\n",
       "</style>\n",
       "<table border=\"1\" class=\"dataframe\">\n",
       "  <thead>\n",
       "    <tr style=\"text-align: right;\">\n",
       "      <th></th>\n",
       "      <th>count(st_id)</th>\n",
       "    </tr>\n",
       "  </thead>\n",
       "  <tbody>\n",
       "    <tr>\n",
       "      <th>0</th>\n",
       "      <td>136</td>\n",
       "    </tr>\n",
       "  </tbody>\n",
       "</table>\n",
       "</div>"
      ],
      "text/plain": [
       "   count(st_id)\n",
       "0           136"
      ]
     },
     "execution_count": 2,
     "metadata": {},
     "output_type": "execute_result"
    }
   ],
   "source": [
    "q = '''\n",
    "    SELECT\n",
    "    COUNT(st_id)\n",
    "    FROM(\n",
    "        SELECT\n",
    "            st_id,\n",
    "            SUM(correct) correct_sum\n",
    "        FROM default.peas\n",
    "        GROUP BY st_id\n",
    "        )sub1\n",
    "    WHERE correct_sum >= 20\n",
    "    '''\n",
    "result = ph.read_clickhouse(query=q, connection=connection)\n",
    "result"
   ]
  },
  {
   "cell_type": "code",
   "execution_count": 3,
   "id": "b0221571",
   "metadata": {},
   "outputs": [
    {
     "data": {
      "text/html": [
       "<div>\n",
       "<style scoped>\n",
       "    .dataframe tbody tr th:only-of-type {\n",
       "        vertical-align: middle;\n",
       "    }\n",
       "\n",
       "    .dataframe tbody tr th {\n",
       "        vertical-align: top;\n",
       "    }\n",
       "\n",
       "    .dataframe thead th {\n",
       "        text-align: right;\n",
       "    }\n",
       "</style>\n",
       "<table border=\"1\" class=\"dataframe\">\n",
       "  <thead>\n",
       "    <tr style=\"text-align: right;\">\n",
       "      <th></th>\n",
       "      <th>test_grp</th>\n",
       "      <th>ARPU</th>\n",
       "      <th>ARPAU</th>\n",
       "      <th>CR</th>\n",
       "      <th>CR_active</th>\n",
       "      <th>CR_active_math</th>\n",
       "    </tr>\n",
       "  </thead>\n",
       "  <tbody>\n",
       "    <tr>\n",
       "      <th>0</th>\n",
       "      <td>control</td>\n",
       "      <td>4541.0</td>\n",
       "      <td>10393.7</td>\n",
       "      <td>4.92</td>\n",
       "      <td>11.02</td>\n",
       "      <td>6.12</td>\n",
       "    </tr>\n",
       "    <tr>\n",
       "      <th>1</th>\n",
       "      <td>pilot</td>\n",
       "      <td>11508.5</td>\n",
       "      <td>29739.6</td>\n",
       "      <td>10.85</td>\n",
       "      <td>26.04</td>\n",
       "      <td>9.52</td>\n",
       "    </tr>\n",
       "  </tbody>\n",
       "</table>\n",
       "</div>"
      ],
      "text/plain": [
       "  test_grp     ARPU    ARPAU     CR  CR_active  CR_active_math\n",
       "0  control   4541.0  10393.7   4.92      11.02            6.12\n",
       "1    pilot  11508.5  29739.6  10.85      26.04            9.52"
      ]
     },
     "execution_count": 3,
     "metadata": {},
     "output_type": "execute_result"
    }
   ],
   "source": [
    "q = '''\n",
    "    SELECT \n",
    "        b.test_grp AS test_grp,\n",
    "        ROUND(SUM(c.money)/uniq(b.st_id), 1) AS ARPU,\n",
    "        ROUND(SUM(CASE WHEN a.tasks > 10 THEN c.money END)/uniq(CASE WHEN a.tasks > 10 THEN b.st_id END), 1) AS ARPAU,\n",
    "        ROUND(100*uniq(CASE WHEN c.money > 0 THEN b.st_id END)/uniq(b.st_id), 2) AS CR,\n",
    "        ROUND(100*uniq(CASE WHEN c.money > 0 AND a.tasks > 10 THEN b.st_id END)/\n",
    "            uniq(CASE WHEN a.tasks > 10 THEN b.st_id END), 2) AS CR_active,\n",
    "        ROUND(100*uniq(CASE WHEN c.money > 0 AND subject = 'Math' AND a.math_tasks > 2 THEN b.st_id END)/\n",
    "            uniq(CASE WHEN a.math_tasks >= 2 THEN b.st_id END), 2) AS CR_active_math\n",
    "    FROM\n",
    "        (\n",
    "        SELECT\n",
    "            st_id,\n",
    "            SUM(correct) AS tasks,\n",
    "            SUM(CASE WHEN subject == 'Math' THEN correct END) AS math_tasks\n",
    "        FROM peas\n",
    "        GROUP BY st_id\n",
    "        ) AS a\n",
    "        FULL JOIN studs AS b ON a.st_id = b.st_id\n",
    "        FULL JOIN final_project_check AS c ON b.st_id = c.st_id\n",
    "    GROUP BY test_grp\n",
    "    '''\n",
    "result2 = ph.read_clickhouse(query=q, connection=connection)\n",
    "result2"
   ]
  }
 ],
 "metadata": {
  "kernelspec": {
   "display_name": "Python 3 (ipykernel)",
   "language": "python",
   "name": "python3"
  },
  "language_info": {
   "codemirror_mode": {
    "name": "ipython",
    "version": 3
   },
   "file_extension": ".py",
   "mimetype": "text/x-python",
   "name": "python",
   "nbconvert_exporter": "python",
   "pygments_lexer": "ipython3",
   "version": "3.10.9"
  }
 },
 "nbformat": 4,
 "nbformat_minor": 5
}
